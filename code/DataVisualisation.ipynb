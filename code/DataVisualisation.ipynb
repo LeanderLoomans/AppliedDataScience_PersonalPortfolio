{
 "cells": [
  {
   "cell_type": "code",
   "execution_count": 1,
   "id": "92e1e687",
   "metadata": {},
   "outputs": [],
   "source": [
    "import soundfile as sf\n",
    "import os\n",
    "import numpy as np\n",
    "import librosa\n",
    "import time\n",
    "from random import randrange\n",
    "import matplotlib.pyplot as plt\n",
    "from matplotlib import cm"
   ]
  },
  {
   "cell_type": "code",
   "execution_count": 2,
   "id": "47df37e7",
   "metadata": {},
   "outputs": [],
   "source": [
    "def convertToMFCC(data, samplerate):\n",
    "    mfcc = librosa.feature.mfcc(y = data, sr = samplerate, n_mfcc=40)\n",
    "    return mfcc"
   ]
  },
  {
   "cell_type": "code",
   "execution_count": 3,
   "id": "17182d42",
   "metadata": {},
   "outputs": [],
   "source": [
    "def halfSecondSplit(samples, samplerate):\n",
    "    \"\"\"Takes 'Audio Data' samples and 'Samplerate', splits it into 0.5 second fragments\"\"\"\n",
    "\n",
    "    #disregards less than half a second of audio files\n",
    "    halfSecondSamples = samplerate/2\n",
    "    samples = samples[:int((len(samples)-(len(samples) % halfSecondSamples)))]\n",
    "    array = np.reshape(samples, (int(samples.size/halfSecondSamples), int(halfSecondSamples)))\n",
    "\n",
    "    return array"
   ]
  },
  {
   "cell_type": "code",
   "execution_count": 4,
   "id": "803953e3",
   "metadata": {},
   "outputs": [],
   "source": [
    "def loadAudio(path): \n",
    "    audiodata, sr = sf.read(path)\n",
    "    \n",
    "    if not sr == 44100:\n",
    "        audiodata = librosa.resample(audiodata, sr, 44100)\n",
    "        sr = 44100\n",
    "    \n",
    "    halfseconds = halfSecondSplit(audiodata,sr)\n",
    "    return halfseconds, sr"
   ]
  },
  {
   "cell_type": "code",
   "execution_count": 5,
   "id": "1df77eb3",
   "metadata": {},
   "outputs": [],
   "source": [
    "def wavsToData(path):\n",
    "    timestamp = time.perf_counter()\n",
    "\n",
    "    samples = []\n",
    "    \n",
    "    files = np.array(os.listdir(path)) \n",
    "    np.random.shuffle(files) # Prevents large clusters of audio with the same type of audio, to promote variation\n",
    "    \n",
    "    for filename in files:\n",
    "        if filename.endswith('.wav'):\n",
    "            halfseconds, sr = loadAudio(path + filename)\n",
    "            for halfSecond in halfseconds:\n",
    "                samples.append(convertToMFCC(halfSecond, sr))\n",
    "                \n",
    "    duration = time.perf_counter() - timestamp\n",
    "    print('duration: ' + str(duration) + ' seconds            ')\n",
    "    \n",
    "    return samples"
   ]
  },
  {
   "cell_type": "code",
   "execution_count": 6,
   "id": "05e8a149",
   "metadata": {},
   "outputs": [],
   "source": [
    "def main():\n",
    "    \n",
    "    path1 = 'audio/Split_Labels/CLEAN_SPEECH'\n",
    "    path2 = 'audio/Split_Labels/NO_SPEECH'\n",
    "    path3 = 'audio/Split_Labels/SPEECH_WITH_MUSIC'\n",
    "    path4 = 'audio/Split_Labels/SPEECH_WITH_NOISE'\n",
    "\n",
    "    data1 = wavsToData(path1 + '/')\n",
    "    data2 = wavsToData(path2 + '/')\n",
    "    data3 = wavsToData(path3 + '/')\n",
    "    data4 = wavsToData(path4 + '/')\n",
    "\n",
    "    fig, ax = plt.subplots()\n",
    "    cox = ax.imshow(data1[randrange(len(data1))], interpolation = 'nearest', cmap = cm.coolwarm, origin = 'lower')\n",
    "    plt.show()\n",
    "    \n",
    "    y = np.array([len(data1)/2, len(data2)/2, len(data3)/2, len(data4)/2])\n",
    "    pie_chart_labels = [\"CLEAN_SPEECH\", \"NO_SPEECH\", \"SPEECH_WITH_MUSIC\", \"SPEECH_WITH_NOISE\"]\n",
    "\n",
    "    plt.pie(y, labels = pie_chart_labels, autopct = '%1.1f%%')\n",
    "    plt.show() \n",
    "    \n",
    "    datafile = np.array(data1)\n",
    "    \n",
    "    print(datafile.shape)"
   ]
  },
  {
   "cell_type": "code",
   "execution_count": 7,
   "id": "e8da32da",
   "metadata": {},
   "outputs": [
    {
     "name": "stdout",
     "output_type": "stream",
     "text": [
      "duration: 203.56447796802968 seconds            \n",
      "duration: 687.6333364369348 seconds            \n",
      "duration: 192.01930274441838 seconds            \n",
      "duration: 378.2106459401548 seconds            \n"
     ]
    },
    {
     "data": {
      "image/png": "[encoded data removed]",
      "text/plain": [
       "<Figure size 432x288 with 1 Axes>"
      ]
     },
     "metadata": {
      "needs_background": "light"
     },
     "output_type": "display_data"
    },
    {
     "data": {
      "image/png": "[encoded data removed]",
      "text/plain": [
       "<Figure size 432x288 with 1 Axes>"
      ]
     },
     "metadata": {},
     "output_type": "display_data"
    },
    {
     "name": "stdout",
     "output_type": "stream",
     "text": [
      "(37624, 40, 44)\n"
     ]
    }
   ],
   "source": [
    "main()"
   ]
  }
 ],
 "metadata": {
  "kernelspec": {
   "display_name": "Python 3 (ipykernel)",
   "language": "python",
   "name": "python3"
  },
  "language_info": {
   "codemirror_mode": {
    "name": "ipython",
    "version": 3
   },
   "file_extension": ".py",
   "mimetype": "text/x-python",
   "name": "python",
   "nbconvert_exporter": "python",
   "pygments_lexer": "ipython3",
   "version": "3.8.8"
  }
 },
 "nbformat": 4,
 "nbformat_minor": 5
}
